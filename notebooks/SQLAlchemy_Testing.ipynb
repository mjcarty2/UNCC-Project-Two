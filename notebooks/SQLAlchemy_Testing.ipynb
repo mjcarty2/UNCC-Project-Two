{
 "cells": [
  {
   "cell_type": "code",
   "execution_count": 2,
   "metadata": {},
   "outputs": [],
   "source": [
    "import sqlalchemy\n",
    "from sqlalchemy.ext.automap import automap_base\n",
    "from sqlalchemy.orm import Session\n",
    "from sqlalchemy import create_engine, func\n",
    "\n",
    "import pandas as pd"
   ]
  },
  {
   "cell_type": "code",
   "execution_count": 3,
   "metadata": {},
   "outputs": [],
   "source": [
    "# engine = create_engine(\"sqlite:///campaign_contribution_data.db?check_same_thread=False\")\n",
    "engine = create_engine(\"sqlite:///../Data/sqlite/campaign_contribution_data.db\")"
   ]
  },
  {
   "cell_type": "code",
   "execution_count": 4,
   "metadata": {},
   "outputs": [],
   "source": [
    "conn = engine.connect()"
   ]
  },
  {
   "cell_type": "code",
   "execution_count": 5,
   "metadata": {},
   "outputs": [],
   "source": [
    "Base = automap_base()"
   ]
  },
  {
   "cell_type": "code",
   "execution_count": 6,
   "metadata": {},
   "outputs": [],
   "source": [
    "Base.prepare(engine, reflect=True)"
   ]
  },
  {
   "cell_type": "code",
   "execution_count": 7,
   "metadata": {
    "scrolled": true
   },
   "outputs": [
    {
     "data": {
      "text/plain": [
       "['candidate_IPT', 'candidate_states', 'incremental', 'personal_contributions']"
      ]
     },
     "execution_count": 7,
     "metadata": {},
     "output_type": "execute_result"
    }
   ],
   "source": [
    "Base.classes.keys()"
   ]
  },
  {
   "cell_type": "code",
   "execution_count": 8,
   "metadata": {},
   "outputs": [],
   "source": [
    "personal_contributions_data = Base.classes.personal_contributions"
   ]
  },
  {
   "cell_type": "code",
   "execution_count": 9,
   "metadata": {},
   "outputs": [],
   "source": [
    "session = Session(engine)"
   ]
  },
  {
   "cell_type": "code",
   "execution_count": 12,
   "metadata": {},
   "outputs": [
    {
     "name": "stderr",
     "output_type": "stream",
     "text": [
      "C:\\Users\\tyler\\Anaconda3\\lib\\site-packages\\sqlalchemy\\sql\\compiler.py:643: SAWarning: Can't resolve label reference '1'; converting to text() (this warning may be suppressed after 10 occurrences)\n",
      "  util.ellipses_string(element.element))\n"
     ]
    },
    {
     "data": {
      "text/plain": [
       "[('SELF-EMPLOYED', 'hrc', 13689298),\n",
       " ('RETIRED', 'hrc', 3269994),\n",
       " ('NOT EMPLOYED', 'hrc', 972690),\n",
       " ('GOOGLE', 'hrc', 587278),\n",
       " ('MICROSOFT', 'hrc', 232646),\n",
       " ('NONE', 'hrc', 205574),\n",
       " ('U.S. GOVERNMENT', 'hrc', 203711),\n",
       " ('APPLE INC.', 'hrc', 184806),\n",
       " ('HARVARD UNIVERSITY', 'hrc', 177739),\n",
       " ('SELF', 'hrc', 170833)]"
      ]
     },
     "execution_count": 12,
     "metadata": {},
     "output_type": "execute_result"
    }
   ],
   "source": [
    "personal_contributions_query = session.query(\\\n",
    "                                            personal_contributions_data.EMPLOYER,\\\n",
    "                                            personal_contributions_data.candidate_x,\\\n",
    "                                            func.sum(personal_contributions_data.TRANSACTION_AMT))\\\n",
    "                                            .group_by(\"1\")\\\n",
    "                                            .order_by(func.sum(personal_contributions_data.TRANSACTION_AMT).desc())\\\n",
    "                                            .filter(personal_contributions_data.candidate_x == \"hrc\")\\\n",
    "                                            .limit(10)\\\n",
    "                                            .all()\n",
    "personal_contributions_query"
   ]
  },
  {
   "cell_type": "code",
   "execution_count": null,
   "metadata": {},
   "outputs": [],
   "source": [
    "personal_contributions_query = session.query(\\\n",
    "                                            personal_contributions_data.EMPLOYER,\\\n",
    "                                            personal_contributions_data.candidate_x,\\\n",
    "                                            func.sum(personal_contributions_data.TRANSACTION_AMT))\\\n",
    "                                            .group_by(\"1\")\\\n",
    "                                            .order_by(personal_contributions_data.TRANSACTION_AMT.desc())\n",
    "\n",
    "personal_contributions_dataframe = personal_contributions_quer"
   ]
  },
  {
   "cell_type": "code",
   "execution_count": null,
   "metadata": {
    "scrolled": true
   },
   "outputs": [],
   "source": [
    "personal_contributions_query = session.query(\\\n",
    "                                            personal_contributions_data.EMPLOYER,\\\n",
    "                                            personal_contributions_data.candidate_x,\\\n",
    "                                            func.sum(personal_contributions_data.TRANSACTION_AMT))\\\n",
    "                                            .group_by(\"1\")\n",
    "personal_contributions_data_frame = pd.read_sql(personal_contributions_query.statement, conn)\n",
    "personal_contributions_data_frame.head()"
   ]
  },
  {
   "cell_type": "code",
   "execution_count": null,
   "metadata": {},
   "outputs": [],
   "source": [
    "personal_contributions_data_frame.sort_values(by=\"sum_1\", ascending=False)"
   ]
  },
  {
   "cell_type": "code",
   "execution_count": null,
   "metadata": {},
   "outputs": [],
   "source": [
    "# individual_data_dataframe = pd.read_sql(individual_data_query.statement, conn)\n",
    "# individual_data_dataframe"
   ]
  },
  {
   "cell_type": "code",
   "execution_count": null,
   "metadata": {},
   "outputs": [],
   "source": []
  }
 ],
 "metadata": {
  "kernelspec": {
   "display_name": "Python 3",
   "language": "python",
   "name": "python3"
  },
  "language_info": {
   "codemirror_mode": {
    "name": "ipython",
    "version": 3
   },
   "file_extension": ".py",
   "mimetype": "text/x-python",
   "name": "python",
   "nbconvert_exporter": "python",
   "pygments_lexer": "ipython3",
   "version": "3.6.5"
  }
 },
 "nbformat": 4,
 "nbformat_minor": 2
}
